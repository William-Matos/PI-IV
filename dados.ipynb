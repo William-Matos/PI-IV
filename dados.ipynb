{
 "cells": [
  {
   "cell_type": "code",
   "execution_count": null,
   "id": "cdfb82ae",
   "metadata": {},
   "outputs": [],
   "source": [
    "import pandas as pd\n",
    "import psycopg2 as pg\n",
    "import streamlit as st\n",
    "import warnings\n",
    "from warnings import filterwarnings\n",
    "\n",
    "filterwarnings(\"ignore\", category=UserWarning,\n",
    "               message=\".*pandas only supports SQLAlchemy connectable.*\")"
   ]
  },
  {
   "cell_type": "code",
   "execution_count": null,
   "id": "fef27ae2",
   "metadata": {},
   "outputs": [
    {
     "name": "stdout",
     "output_type": "stream",
     "text": [
      "243740.99016189575\n",
      "(190654207, 13)\n"
     ]
    }
   ],
   "source": [
    "db_credenciais = st.secrets['postgresql']\n",
    "\n",
    "host = db_credenciais['host']\n",
    "port = db_credenciais['port']\n",
    "user = db_credenciais['user']\n",
    "password = db_credenciais['password']\n",
    "dbname = db_credenciais['dbname']\n",
    "\n",
    "with pg.connect(host=host, port=port, user=user, password=password, dbname=dbname) as conn:\n",
    "    curr = conn.cursor()\n",
    "\n",
    "    enem_2024 = pd.read_sql_query(\"\"\"SELECT\n",
    "                                            co_municipio_esc,\n",
    "                                            AVG(nota_cn_ciencias_da_natureza) as media_cn,\n",
    "                                            AVG(nota_ch_ciencias_humanas) as media_ch,\n",
    "                                            AVG(nota_lc_linguagens_e_codigos) as media_lc,\n",
    "                                            AVG(nota_mt_matematica) as media_mt,\n",
    "                                            AVG(nota_redacao) as media_redacao\n",
    "                                    FROM\n",
    "                                        public.ed_enem_2024_resultados\n",
    "                                    WHERE\n",
    "                                        co_municipio_esc IS NOT NULL\n",
    "                                    GROUP BY\n",
    "                                        co_municipio_esc\n",
    "                                            \"\"\", conn)\n",
    "\n",
    "    pib_municipios = pd.read_sql_query(\"\"\"SELECT\n",
    "                                                codigo_municipio_dv,\n",
    "                                                ano_pib,\n",
    "                                                vl_pib,\n",
    "                                                vl_pib_per_capta\n",
    "                                        FROM\n",
    "                                                public.pib_municipios\n",
    "                                                \"\"\", conn)\n",
    "\n",
    "    censo = pd.read_sql_query(\"\"\"SELECT\n",
    "                                    \"CO_MUNICIPIO\",\n",
    "                                    \"TOTAL\",\n",
    "                                    \"IDADE\"\n",
    "                                FROM\n",
    "                                    public.\"Censo_20222_Populacao_Idade_Sexo\"\n",
    "                                WHERE\n",
    "                                    \"IDADE\" BETWEEN 15 AND 19\n",
    "                                    \"\"\", conn)\n",
    "\n",
    "    municipio = pd.read_sql_query(\"\"\"SELECT\n",
    "                                            nome_municipio,\n",
    "                                            codigo_municipio_dv\n",
    "                                    FROM\n",
    "                                            public.municipio\n",
    "                                            \"\"\", conn)\n",
    "\n",
    "    uf = pd.read_sql_query(\"\"\"SELECT\n",
    "                                cd_uf,\n",
    "                                sigla_uf,\n",
    "                                nome_uf\n",
    "                            FROM\n",
    "                                public.unidade_federacao\n",
    "                        \"\"\", conn)\n",
    "\n",
    "    df_temp = pd.merge(enem_2024, pib_municipios, left_on='co_municipio_esc',\n",
    "                       right_on='codigo_municipio_dv', how='left')\n",
    "\n",
    "    df = pd.merge(df_temp, censo, left_on='co_municipio_esc',\n",
    "                  right_on='CO_MUNICIPIO', how='left')"
   ]
  },
  {
   "cell_type": "code",
   "execution_count": null,
   "id": "1691406b",
   "metadata": {},
   "outputs": [],
   "source": []
  }
 ],
 "metadata": {
  "kernelspec": {
   "display_name": ".venv",
   "language": "python",
   "name": "python3"
  },
  "language_info": {
   "codemirror_mode": {
    "name": "ipython",
    "version": 3
   },
   "file_extension": ".py",
   "mimetype": "text/x-python",
   "name": "python",
   "nbconvert_exporter": "python",
   "pygments_lexer": "ipython3",
   "version": "3.13.7"
  }
 },
 "nbformat": 4,
 "nbformat_minor": 5
}
